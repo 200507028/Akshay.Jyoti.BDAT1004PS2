{
 "cells": [
  {
   "cell_type": "markdown",
   "id": "e409a3d5",
   "metadata": {},
   "source": [
    "# Q1"
   ]
  },
  {
   "cell_type": "code",
   "execution_count": 1,
   "id": "d02a2a05",
   "metadata": {},
   "outputs": [],
   "source": [
    "a = 0\n",
    "def b():\n",
    " global a\n",
    " a = c(a)\n",
    "def c(a):\n",
    " return a + 2"
   ]
  },
  {
   "cell_type": "code",
   "execution_count": 2,
   "id": "db9a67f2",
   "metadata": {},
   "outputs": [
    {
     "data": {
      "text/plain": [
       "6"
      ]
     },
     "execution_count": 2,
     "metadata": {},
     "output_type": "execute_result"
    }
   ],
   "source": [
    "b()\n",
    "b()\n",
    "b()\n",
    "a"
   ]
  },
  {
   "cell_type": "markdown",
   "id": "5b523cd6",
   "metadata": {},
   "source": [
    "This is becasue when execute function b it calls function c where a+2 happens. As is declared globally and initially its value is zero everytime we call b 2 gets added to it. So 2+2+2 becomes 6 when try to see the value of a "
   ]
  },
  {
   "cell_type": "markdown",
   "id": "65044310",
   "metadata": {},
   "source": [
    "# Q2"
   ]
  },
  {
   "cell_type": "code",
   "execution_count": 5,
   "id": "ea31f60d",
   "metadata": {},
   "outputs": [
    {
     "data": {
      "text/plain": [
       "'C:\\\\Users\\\\Akshay\\\\Desktop\\\\Big data\\\\Data Programming BDAT1004\\\\Week 05 Notebook\\\\Week 05 Notebook'"
      ]
     },
     "execution_count": 5,
     "metadata": {},
     "output_type": "execute_result"
    }
   ],
   "source": [
    "import os \n",
    "os.getcwd()\n"
   ]
  },
  {
   "cell_type": "code",
   "execution_count": 6,
   "id": "d055b326",
   "metadata": {},
   "outputs": [],
   "source": [
    "def file_length(file_name):\n",
    "    try:\n",
    "    \n",
    "        file = open(file_name)\n",
    "        contents = file.read()\n",
    "        file.close()\n",
    "        print(len(contents))\n",
    "        \n",
    "    except:\n",
    "        print('Please enter filename which is present in the directory')\n",
    "    "
   ]
  },
  {
   "cell_type": "code",
   "execution_count": 7,
   "id": "ff014c5c",
   "metadata": {},
   "outputs": [
    {
     "name": "stdout",
     "output_type": "stream",
     "text": [
      "Please enter filename which is present in the directory\n"
     ]
    }
   ],
   "source": [
    "file_length('akshay.txt')"
   ]
  },
  {
   "cell_type": "code",
   "execution_count": 8,
   "id": "467fe249",
   "metadata": {},
   "outputs": [
    {
     "name": "stdout",
     "output_type": "stream",
     "text": [
      "38\n"
     ]
    }
   ],
   "source": [
    "file_length('yo.txt')"
   ]
  },
  {
   "cell_type": "markdown",
   "id": "56214be7",
   "metadata": {},
   "source": [
    "\n",
    "# Q3"
   ]
  },
  {
   "cell_type": "code",
   "execution_count": 9,
   "id": "e49d5a7e",
   "metadata": {},
   "outputs": [],
   "source": [
    "class Marsupial(object):\n",
    "    def __init__(self):\n",
    "        self.lst = []\n",
    "    \n",
    "    def put_in_pouch(self, thing):\n",
    "        self.lst.append(thing)\n",
    "        \n",
    "    def pouch_contents(self):\n",
    "        return self.lst\n",
    "    \n",
    "class Kangaro:\n",
    "    \n",
    "    def __init__(self, x=0, y=0):\n",
    "        'initialize coordinates to (xcoord, ycoord)'\n",
    "        self.x = x\n",
    "        self.y = y\n",
    "        \n",
    "    def jump(self, dx, dy):\n",
    "        'change the x and y coordinates by dx and dy'\n",
    "        self.x += dx\n",
    "        self.y += dy\n",
    "\n",
    "    def __repr__(self):\n",
    "        'kangaroo trying'\n",
    "        return 'I am a Kangaroo located at point({}, {})'.format(self.x, self.y)"
   ]
  },
  {
   "cell_type": "code",
   "execution_count": 10,
   "id": "73c5278f",
   "metadata": {},
   "outputs": [
    {
     "name": "stdout",
     "output_type": "stream",
     "text": [
      "I am a Kangaroo located at point(0, 0)\n"
     ]
    }
   ],
   "source": [
    "k=Kangaro(0,0)\n",
    "print(k)"
   ]
  },
  {
   "cell_type": "code",
   "execution_count": 11,
   "id": "2a8358b4",
   "metadata": {},
   "outputs": [
    {
     "name": "stdout",
     "output_type": "stream",
     "text": [
      "I am a Kangaroo located at point(3, 0)\n"
     ]
    }
   ],
   "source": [
    "k=Kangaro()\n",
    "k.jump(1,0)\n",
    "k.jump(1,0)\n",
    "k.jump(1,0)\n",
    "print(k)\n"
   ]
  },
  {
   "cell_type": "markdown",
   "id": "6dcbedc6",
   "metadata": {},
   "source": [
    "# Q4 "
   ]
  },
  {
   "cell_type": "code",
   "execution_count": 32,
   "id": "47ee1c94",
   "metadata": {},
   "outputs": [],
   "source": [
    "def collatz(number):\n",
    "    if number == 1:\n",
    "        print(number)\n",
    "    while number != 1:\n",
    "            if number % 2 == 0:           \n",
    "                result = number // 2\n",
    "                print(result) \n",
    "                number = result\n",
    "            elif number % 2 == 1:       \n",
    "                result = 3 * number + 1\n",
    "                print(result)\n",
    "                number = result"
   ]
  },
  {
   "cell_type": "code",
   "execution_count": 33,
   "id": "0fcba853",
   "metadata": {},
   "outputs": [
    {
     "name": "stdout",
     "output_type": "stream",
     "text": [
      "1\n"
     ]
    }
   ],
   "source": [
    "collatz(1)"
   ]
  },
  {
   "cell_type": "code",
   "execution_count": 34,
   "id": "090e24d2",
   "metadata": {},
   "outputs": [
    {
     "name": "stdout",
     "output_type": "stream",
     "text": [
      "5\n",
      "16\n",
      "8\n",
      "4\n",
      "2\n",
      "1\n"
     ]
    }
   ],
   "source": [
    "collatz(10)"
   ]
  },
  {
   "cell_type": "markdown",
   "id": "9c39055b",
   "metadata": {},
   "source": [
    "# Q5"
   ]
  },
  {
   "cell_type": "code",
   "execution_count": 35,
   "id": "d9d37001",
   "metadata": {},
   "outputs": [],
   "source": [
    "def binary(n):\n",
    " \n",
    "    if (n > 1):\n",
    "        binary(n >> 1)\n",
    "    print(n & 1, end=\"\")"
   ]
  },
  {
   "cell_type": "code",
   "execution_count": 36,
   "id": "75a91605",
   "metadata": {},
   "outputs": [
    {
     "name": "stdout",
     "output_type": "stream",
     "text": [
      "0"
     ]
    }
   ],
   "source": [
    "binary(0)"
   ]
  },
  {
   "cell_type": "code",
   "execution_count": 37,
   "id": "f87f0966",
   "metadata": {},
   "outputs": [
    {
     "name": "stdout",
     "output_type": "stream",
     "text": [
      "1"
     ]
    }
   ],
   "source": [
    "binary(1)"
   ]
  },
  {
   "cell_type": "code",
   "execution_count": 38,
   "id": "8428337c",
   "metadata": {},
   "outputs": [
    {
     "name": "stdout",
     "output_type": "stream",
     "text": [
      "11"
     ]
    }
   ],
   "source": [
    "binary(3)"
   ]
  },
  {
   "cell_type": "code",
   "execution_count": 39,
   "id": "329777a3",
   "metadata": {},
   "outputs": [
    {
     "name": "stdout",
     "output_type": "stream",
     "text": [
      "1001"
     ]
    }
   ],
   "source": [
    "binary(9)"
   ]
  },
  {
   "cell_type": "markdown",
   "id": "7a40369d",
   "metadata": {},
   "source": [
    "# Q6"
   ]
  },
  {
   "cell_type": "code",
   "execution_count": 40,
   "id": "6d301ae4",
   "metadata": {},
   "outputs": [],
   "source": [
    "from html.parser import HTMLParser\n",
    "\n",
    "class HeadingParser(HTMLParser):\n",
    "    inHeading = False\n",
    "    extra = \"\"\n",
    "    def handle_starttag(self, tag, attrs):\n",
    "        if tag == \"h1\":\n",
    "            self.inHeading = True\n",
    "        elif tag == \"h2\":\n",
    "            self.inHeading = True \n",
    "            self.extra += \"  \" \n",
    "    def handle_data(self, data):\n",
    "        if self.inHeading:\n",
    "            print(self.extra,data)\n",
    "    def handle_endtag(self, tag):\n",
    "        if tag ==\"h1\":\n",
    "            self.inHeading = False\n",
    "        if tag ==\"h2\":\n",
    "            self.inHeading = False"
   ]
  },
  {
   "cell_type": "code",
   "execution_count": 41,
   "id": "ef7e9b3c",
   "metadata": {},
   "outputs": [
    {
     "name": "stdout",
     "output_type": "stream",
     "text": [
      " W3C Mission\n",
      "   Principles\n"
     ]
    }
   ],
   "source": [
    "infile = open('w3c.html')\n",
    "content = infile.read()\n",
    "infile.close()\n",
    "hp = HeadingParser()\n",
    "hp.feed(content)"
   ]
  },
  {
   "cell_type": "markdown",
   "id": "5517d920",
   "metadata": {},
   "source": [
    "# Q7"
   ]
  },
  {
   "cell_type": "code",
   "execution_count": 62,
   "id": "4ec9950e",
   "metadata": {},
   "outputs": [],
   "source": [
    "from urllib.parse import urljoin\n",
    "from urllib.request import urlopen\n",
    "from html.parser import HTMLParser\n",
    "class Collector(HTMLParser):\n",
    "    'collects hyperlink URLs into a list'\n",
    "\n",
    "    def __init__(self, url):\n",
    "        'initializes parser, the url, and a list'\n",
    "        HTMLParser.__init__(self)\n",
    "        self.url = url\n",
    "        self.links = []\n"
   ]
  },
  {
   "cell_type": "code",
   "execution_count": 63,
   "id": "ee6bfcb3",
   "metadata": {},
   "outputs": [
    {
     "ename": "TypeError",
     "evalue": "__init__() missing 1 required positional argument: 'url'",
     "output_type": "error",
     "traceback": [
      "\u001b[1;31m---------------------------------------------------------------------------\u001b[0m",
      "\u001b[1;31mTypeError\u001b[0m                                 Traceback (most recent call last)",
      "\u001b[1;32m~\\AppData\\Local\\Temp/ipykernel_12736/324489153.py\u001b[0m in \u001b[0;36m<module>\u001b[1;34m\u001b[0m\n\u001b[0;32m      2\u001b[0m \u001b[0mresource\u001b[0m \u001b[1;33m=\u001b[0m \u001b[0murlopen\u001b[0m\u001b[1;33m(\u001b[0m\u001b[0murl\u001b[0m\u001b[1;33m)\u001b[0m\u001b[1;33m\u001b[0m\u001b[1;33m\u001b[0m\u001b[0m\n\u001b[0;32m      3\u001b[0m \u001b[0mcontent\u001b[0m \u001b[1;33m=\u001b[0m \u001b[0mresource\u001b[0m\u001b[1;33m.\u001b[0m\u001b[0mread\u001b[0m\u001b[1;33m(\u001b[0m\u001b[1;33m)\u001b[0m\u001b[1;33m.\u001b[0m\u001b[0mdecode\u001b[0m\u001b[1;33m(\u001b[0m\u001b[1;33m)\u001b[0m\u001b[1;33m\u001b[0m\u001b[1;33m\u001b[0m\u001b[0m\n\u001b[1;32m----> 4\u001b[1;33m \u001b[0mcollector\u001b[0m \u001b[1;33m=\u001b[0m \u001b[0mCollector\u001b[0m\u001b[1;33m(\u001b[0m\u001b[1;33m)\u001b[0m\u001b[1;33m\u001b[0m\u001b[1;33m\u001b[0m\u001b[0m\n\u001b[0m\u001b[0;32m      5\u001b[0m \u001b[0mcollector\u001b[0m\u001b[1;33m.\u001b[0m\u001b[0mfeed\u001b[0m\u001b[1;33m(\u001b[0m\u001b[0mcontent\u001b[0m\u001b[1;33m)\u001b[0m\u001b[1;33m\u001b[0m\u001b[1;33m\u001b[0m\u001b[0m\n\u001b[0;32m      6\u001b[0m \u001b[0mcollector\u001b[0m\u001b[1;33m.\u001b[0m\u001b[0mgetLinks\u001b[0m\u001b[1;33m(\u001b[0m\u001b[1;33m)\u001b[0m\u001b[1;33m\u001b[0m\u001b[1;33m\u001b[0m\u001b[0m\n",
      "\u001b[1;31mTypeError\u001b[0m: __init__() missing 1 required positional argument: 'url'"
     ]
    }
   ],
   "source": [
    "url = 'http://www.w3.org/Consortium/mission.html'\n",
    "resource = urlopen(url)\n",
    "content = resource.read().decode()\n",
    "collector = Collector()\n",
    "collector.feed(content)\n",
    "collector.getLinks()"
   ]
  },
  {
   "cell_type": "code",
   "execution_count": null,
   "id": "b4d49783",
   "metadata": {},
   "outputs": [],
   "source": []
  },
  {
   "cell_type": "markdown",
   "id": "425708ba",
   "metadata": {},
   "source": [
    "# Q8"
   ]
  },
  {
   "cell_type": "code",
   "execution_count": 42,
   "id": "5310a746",
   "metadata": {},
   "outputs": [
    {
     "name": "stdout",
     "output_type": "stream",
     "text": [
      "Requirement already satisfied: ipython-sql in c:\\users\\akshay\\anaconda3\\lib\\site-packages (0.4.0)\n",
      "Requirement already satisfied: six in c:\\users\\akshay\\anaconda3\\lib\\site-packages (from ipython-sql) (1.16.0)\n",
      "Requirement already satisfied: sqlalchemy>=0.6.7 in c:\\users\\akshay\\anaconda3\\lib\\site-packages (from ipython-sql) (1.4.22)\n",
      "Requirement already satisfied: sqlparse in c:\\users\\akshay\\anaconda3\\lib\\site-packages (from ipython-sql) (0.4.2)\n",
      "Requirement already satisfied: ipython>=1.0 in c:\\users\\akshay\\anaconda3\\lib\\site-packages (from ipython-sql) (7.29.0)\n",
      "Requirement already satisfied: prettytable<1 in c:\\users\\akshay\\anaconda3\\lib\\site-packages (from ipython-sql) (0.7.2)\n",
      "Requirement already satisfied: ipython-genutils>=0.1.0 in c:\\users\\akshay\\anaconda3\\lib\\site-packages (from ipython-sql) (0.2.0)\n",
      "Requirement already satisfied: decorator in c:\\users\\akshay\\anaconda3\\lib\\site-packages (from ipython>=1.0->ipython-sql) (5.1.0)\n",
      "Requirement already satisfied: jedi>=0.16 in c:\\users\\akshay\\anaconda3\\lib\\site-packages (from ipython>=1.0->ipython-sql) (0.18.0)\n",
      "Requirement already satisfied: pickleshare in c:\\users\\akshay\\anaconda3\\lib\\site-packages (from ipython>=1.0->ipython-sql) (0.7.5)\n",
      "Requirement already satisfied: colorama in c:\\users\\akshay\\anaconda3\\lib\\site-packages (from ipython>=1.0->ipython-sql) (0.4.4)\n",
      "Requirement already satisfied: matplotlib-inline in c:\\users\\akshay\\anaconda3\\lib\\site-packages (from ipython>=1.0->ipython-sql) (0.1.2)\n",
      "Requirement already satisfied: traitlets>=4.2 in c:\\users\\akshay\\anaconda3\\lib\\site-packages (from ipython>=1.0->ipython-sql) (5.1.0)\n",
      "Requirement already satisfied: setuptools>=18.5 in c:\\users\\akshay\\anaconda3\\lib\\site-packages (from ipython>=1.0->ipython-sql) (58.0.4)\n",
      "Requirement already satisfied: pygments in c:\\users\\akshay\\anaconda3\\lib\\site-packages (from ipython>=1.0->ipython-sql) (2.10.0)\n",
      "Requirement already satisfied: prompt-toolkit!=3.0.0,!=3.0.1,<3.1.0,>=2.0.0 in c:\\users\\akshay\\anaconda3\\lib\\site-packages (from ipython>=1.0->ipython-sql) (3.0.20)\n",
      "Requirement already satisfied: backcall in c:\\users\\akshay\\anaconda3\\lib\\site-packages (from ipython>=1.0->ipython-sql) (0.2.0)\n",
      "Requirement already satisfied: parso<0.9.0,>=0.8.0 in c:\\users\\akshay\\anaconda3\\lib\\site-packages (from jedi>=0.16->ipython>=1.0->ipython-sql) (0.8.2)\n",
      "Requirement already satisfied: wcwidth in c:\\users\\akshay\\anaconda3\\lib\\site-packages (from prompt-toolkit!=3.0.0,!=3.0.1,<3.1.0,>=2.0.0->ipython>=1.0->ipython-sql) (0.2.5)\n",
      "Requirement already satisfied: greenlet!=0.4.17 in c:\\users\\akshay\\anaconda3\\lib\\site-packages (from sqlalchemy>=0.6.7->ipython-sql) (1.1.1)\n"
     ]
    }
   ],
   "source": [
    "!pip install ipython-sql"
   ]
  },
  {
   "cell_type": "code",
   "execution_count": null,
   "id": "51fceb51",
   "metadata": {},
   "outputs": [],
   "source": [
    "import\tcsv,\tsqlite3\t\t\t\t\t\t\t\t\t\t\n",
    "\t\t\t\t\t\t\t\t\t\t\t\t\n",
    "con\t=\tsqlite3.connect(\"sqlite:Data.db\")\t#\tchange\tto\t'sqlite:///your_filename.db'\t\t\t\t\t\t\n",
    "cur\t=\tcon.cursor()\t\t\t\t\t\t\t\t\t\t\n",
    "cur.execute(\"CREATE\tTABLE\tt4\t(City,Country,Season,Temperature,Rainfall);\")\t#\tuse\tyour\tcolumn\tnames\there\t\t\t\n",
    "\t\t\t\t\t\t\t\t\t\t\t\t\n",
    "with\topen('Data.csv','r')\tas\tfin:\t#\t`with`\tstatement\tavailable\tin\t2.5+\t\t\t\n",
    "\t#\tcsv.DictReader\tuses\tfirst\tline\tin\tfile\tfor\tcolumn\theadings\tby\tdefault\n",
    "\tdr\t=\tcsv.DictReader(fin)\t#\tcomma\tis\tdefault\tdelimiter\t\t\t\t\n",
    "\tto_db\t=\t[(i['City'],\ti['Country'],\ti['Season'],\ti['Temperature'],\ti['Rainfall'])\tfor\ti\tin\tdr]\t\n",
    "\t\t\t\t\t\t\t\t\t\t\t\t\n",
    "cur.executemany(\"INSERT\tINTO\tt4\t(City,Country,Season,Temperature,Rainfall)\tVALUES\t(?,\t?,\t?,\t?,\t?);\",\tto_db)\t\t\n",
    "con.commit()\t\t\t\t\t\t\t\t\t\t\t\t\n",
    "con.close()"
   ]
  },
  {
   "cell_type": "markdown",
   "id": "04742321",
   "metadata": {},
   "source": [
    "### 8a"
   ]
  },
  {
   "cell_type": "code",
   "execution_count": 44,
   "id": "84128819",
   "metadata": {},
   "outputs": [
    {
     "data": {
      "text/plain": [
       "[('Mumbai', 'India', 'Winter', '24.8', '5.9'),\n",
       " ('Mumbai', 'India', 'Spring', '28.4', '16.2'),\n",
       " ('Mumbai', 'India', 'Summer', '27.9', '1549.4'),\n",
       " ('Mumbai', 'India', 'Fall', '27.6', '346'),\n",
       " ('London', 'United', 'Winter', '4.2', '207.7'),\n",
       " ('London', 'United', 'Spring', '8.3', '169.6'),\n",
       " ('London', 'United', 'Summer', '15.7', '157'),\n",
       " ('London', 'United', 'Fall', '10.4', '218.5'),\n",
       " ('Cairo', 'Egypt', 'Winter', '13.6', '16.5'),\n",
       " ('Cairo', 'Egypt', 'Spring', '20.7', '6.5'),\n",
       " ('Cairo', 'Egypt', 'Summer', '27.7', '0.1'),\n",
       " ('Cairo', 'Egypt', 'Fall', '22.2', '4.5')]"
      ]
     },
     "execution_count": 44,
     "metadata": {},
     "output_type": "execute_result"
    }
   ],
   "source": [
    "import sqlite3\n",
    "con\t=\tsqlite3.connect(\"sqlite:Data.db\")\n",
    "cur = con.cursor()\n",
    "cur.execute('SELECT * FROM t4')\n",
    "cur.fetchall()"
   ]
  },
  {
   "cell_type": "markdown",
   "id": "22b6fd21",
   "metadata": {},
   "source": [
    "### 8b"
   ]
  },
  {
   "cell_type": "code",
   "execution_count": 45,
   "id": "88ac32bd",
   "metadata": {},
   "outputs": [
    {
     "data": {
      "text/plain": [
       "[('24.8',),\n",
       " ('28.4',),\n",
       " ('27.9',),\n",
       " ('27.6',),\n",
       " ('4.2',),\n",
       " ('8.3',),\n",
       " ('15.7',),\n",
       " ('10.4',),\n",
       " ('13.6',),\n",
       " ('20.7',),\n",
       " ('27.7',),\n",
       " ('22.2',)]"
      ]
     },
     "execution_count": 45,
     "metadata": {},
     "output_type": "execute_result"
    }
   ],
   "source": [
    "import sqlite3\n",
    "con\t=\tsqlite3.connect(\"sqlite:Data.db\")\n",
    "cur = con.cursor()\n",
    "cur.execute('SELECT Temperature FROM t4')\n",
    "cur.fetchall()"
   ]
  },
  {
   "cell_type": "markdown",
   "id": "b0704da1",
   "metadata": {},
   "source": [
    "### 8c"
   ]
  },
  {
   "cell_type": "code",
   "execution_count": 47,
   "id": "a823ac7e",
   "metadata": {},
   "outputs": [
    {
     "data": {
      "text/plain": [
       "[('Mumbai',), ('London',), ('Cairo',)]"
      ]
     },
     "execution_count": 47,
     "metadata": {},
     "output_type": "execute_result"
    }
   ],
   "source": [
    "import sqlite3\n",
    "con\t=\tsqlite3.connect(\"sqlite:Data.db\")\n",
    "cur = con.cursor()\n",
    "cur.execute('SELECT DISTINCT City FROM t4')\n",
    "cur.fetchall()"
   ]
  },
  {
   "cell_type": "markdown",
   "id": "ee8dd8fb",
   "metadata": {},
   "source": [
    "### 8d"
   ]
  },
  {
   "cell_type": "markdown",
   "id": "ebc13492",
   "metadata": {},
   "source": [
    "import sqlite3\n",
    "con\t=\tsqlite3.connect(\"sqlite:Data.db\")\n",
    "cur = con.cursor()\n",
    "cur.execute('SELECT * FROM t4 WHERE Country = \"India\"')\n",
    "cur.fetchall()"
   ]
  },
  {
   "cell_type": "markdown",
   "id": "0c0c9a09",
   "metadata": {},
   "source": [
    "### 8e "
   ]
  },
  {
   "cell_type": "code",
   "execution_count": 50,
   "id": "2d45d95b",
   "metadata": {},
   "outputs": [
    {
     "data": {
      "text/plain": [
       "[('London', 'United', 'Fall', 218.5),\n",
       " ('London', 'United', 'Winter', 207.7),\n",
       " ('Mumbai', 'India', 'Fall', 346.0)]"
      ]
     },
     "execution_count": 50,
     "metadata": {},
     "output_type": "execute_result"
    }
   ],
   "source": [
    "import sqlite3\n",
    "con\t=\tsqlite3.connect(\"sqlite:Data.db\")\n",
    "cur = con.cursor()\n",
    "cur.execute('SELECT City,Country,Season, AVG(Rainfall) as avg_rain FROM t4 GROUP BY City,Country,Season HAVING (avg_rain > 200 AND avg_rain < 400) ')\n",
    "cur.fetchall()"
   ]
  },
  {
   "cell_type": "markdown",
   "id": "0f6e49fa",
   "metadata": {},
   "source": [
    "### 8f"
   ]
  },
  {
   "cell_type": "code",
   "execution_count": 51,
   "id": "aac31095",
   "metadata": {},
   "outputs": [
    {
     "data": {
      "text/plain": [
       "[('Cairo', 'Egypt', 22.2), ('Mumbai', 'India', 27.6)]"
      ]
     },
     "execution_count": 51,
     "metadata": {},
     "output_type": "execute_result"
    }
   ],
   "source": [
    "import sqlite3\n",
    "con\t=\tsqlite3.connect(\"sqlite:Data.db\")\n",
    "cur = con.cursor()\n",
    "cur.execute('SELECT City,Country, AVG(Temperature) as avg_temp FROM t4 WHERE Season = \"Fall\" GROUP BY City,Country HAVING (avg_temp > 20) order by avg_temp ASC ')\n",
    "cur.fetchall()"
   ]
  },
  {
   "cell_type": "markdown",
   "id": "5f87864d",
   "metadata": {},
   "source": [
    "### 8g"
   ]
  },
  {
   "cell_type": "code",
   "execution_count": 52,
   "id": "9e936cdb",
   "metadata": {},
   "outputs": [
    {
     "data": {
      "text/plain": [
       "[('Cairo', 27.6)]"
      ]
     },
     "execution_count": 52,
     "metadata": {},
     "output_type": "execute_result"
    }
   ],
   "source": [
    "import sqlite3\n",
    "con\t=\tsqlite3.connect(\"sqlite:Data.db\")\n",
    "cur = con.cursor()\n",
    "cur.execute('SELECT City,SUM(Rainfall) FROM t4 WHERE City = \"Cairo\" GROUP BY City ')\n",
    "cur.fetchall()"
   ]
  },
  {
   "cell_type": "markdown",
   "id": "1328e699",
   "metadata": {},
   "source": [
    "### 8h "
   ]
  },
  {
   "cell_type": "code",
   "execution_count": 53,
   "id": "d8b3abc5",
   "metadata": {},
   "outputs": [
    {
     "data": {
      "text/plain": [
       "[('Fall', 569.0),\n",
       " ('Spring', 192.29999999999998),\n",
       " ('Summer', 1706.5),\n",
       " ('Winter', 230.1)]"
      ]
     },
     "execution_count": 53,
     "metadata": {},
     "output_type": "execute_result"
    }
   ],
   "source": [
    "import sqlite3\n",
    "con\t=\tsqlite3.connect(\"sqlite:Data.db\")\n",
    "cur = con.cursor()\n",
    "cur.execute('SELECT Season, SUM(Rainfall) as tot_rain FROM t4 GROUP BY Season ')\n",
    "cur.fetchall()"
   ]
  },
  {
   "cell_type": "markdown",
   "id": "563d157b",
   "metadata": {},
   "source": [
    "# Q9"
   ]
  },
  {
   "cell_type": "markdown",
   "id": "e4ecb54b",
   "metadata": {},
   "source": [
    "### 9a"
   ]
  },
  {
   "cell_type": "code",
   "execution_count": 54,
   "id": "93076eae",
   "metadata": {},
   "outputs": [
    {
     "name": "stdout",
     "output_type": "stream",
     "text": [
      "['THE', 'QUICK', 'BROWN', 'FOX', 'JUMPS', 'OVER', 'THE', 'LAZY', 'DOG']\n"
     ]
    }
   ],
   "source": [
    "words = ['The', 'quick', 'brown', 'fox', 'jumps', 'over',\n",
    "'the', 'lazy', 'dog']\n",
    "for i in range(len(words)):\n",
    "    words[i] = words[i].upper()\n",
    "    \n",
    "print(words)"
   ]
  },
  {
   "cell_type": "markdown",
   "id": "2e86d825",
   "metadata": {},
   "source": [
    "### 9b"
   ]
  },
  {
   "cell_type": "code",
   "execution_count": 55,
   "id": "fde8c45d",
   "metadata": {},
   "outputs": [
    {
     "name": "stdout",
     "output_type": "stream",
     "text": [
      "['the', 'quick', 'brown', 'fox', 'jumps', 'over', 'the', 'lazy', 'dog']\n"
     ]
    }
   ],
   "source": [
    "for i in range(len(words)):\n",
    "    words[i] = words[i].lower()\n",
    "    \n",
    "print(words)"
   ]
  },
  {
   "cell_type": "markdown",
   "id": "096f6306",
   "metadata": {},
   "source": [
    "### 9c"
   ]
  },
  {
   "cell_type": "code",
   "execution_count": 57,
   "id": "9bb41a20",
   "metadata": {},
   "outputs": [
    {
     "name": "stdout",
     "output_type": "stream",
     "text": [
      "[3, 5, 5, 3, 5, 4, 3, 4, 3]\n"
     ]
    }
   ],
   "source": [
    "for i in range(len(words)):\n",
    "    words[i] = len(words[i])\n",
    "    \n",
    "print(words)"
   ]
  },
  {
   "cell_type": "markdown",
   "id": "76d728c6",
   "metadata": {},
   "source": [
    "### 9d "
   ]
  },
  {
   "cell_type": "code",
   "execution_count": 60,
   "id": "4cb3b312",
   "metadata": {},
   "outputs": [
    {
     "name": "stdout",
     "output_type": "stream",
     "text": [
      "['THE', 'the', 3, 'QUICK', 'quick', 5, 'BROWN', 'brown', 5, 'FOX', 'fox', 3, 'JUMPS', 'jumps', 5, 'OVER', 'over', 4, 'THE', 'the', 3, 'LAZY', 'lazy', 4, 'DOG', 'dog', 3]\n"
     ]
    }
   ],
   "source": [
    "words = ['The', 'quick', 'brown', 'fox', 'jumps', 'over',\n",
    "'the', 'lazy', 'dog']\n",
    "for i in range(len(words)):\n",
    "    mini=[]\n",
    "    major=[]\n",
    "    for i in range(len(words)):\n",
    "        mini.append(words[i].upper())\n",
    "        mini.append(words[i].lower())\n",
    "        mini.append(len(words[i])) \n",
    "        major.append(mini)\n",
    "\n",
    "        \n",
    "print(mini)"
   ]
  },
  {
   "cell_type": "markdown",
   "id": "7a5041eb",
   "metadata": {},
   "source": [
    "### 9e "
   ]
  },
  {
   "cell_type": "code",
   "execution_count": 61,
   "id": "21c11b3e",
   "metadata": {},
   "outputs": [
    {
     "name": "stdout",
     "output_type": "stream",
     "text": [
      "['quick', 'brown', 'jumps', 'over', 'lazy']\n"
     ]
    }
   ],
   "source": [
    "for i in range(len(words)):\n",
    "    mini=[]\n",
    "    for i in range(len(words)):\n",
    "        if len(words[i]) >= 4 :\n",
    "            \n",
    "            mini.append(words[i])\n",
    "print(mini)\n",
    "    "
   ]
  }
 ],
 "metadata": {
  "kernelspec": {
   "display_name": "Python 3 (ipykernel)",
   "language": "python",
   "name": "python3"
  },
  "language_info": {
   "codemirror_mode": {
    "name": "ipython",
    "version": 3
   },
   "file_extension": ".py",
   "mimetype": "text/x-python",
   "name": "python",
   "nbconvert_exporter": "python",
   "pygments_lexer": "ipython3",
   "version": "3.9.7"
  }
 },
 "nbformat": 4,
 "nbformat_minor": 5
}
